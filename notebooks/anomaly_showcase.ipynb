{
 "cells": [
  {
   "cell_type": "code",
   "execution_count": null,
   "metadata": {},
   "outputs": [],
   "source": [
    "import numpy as np\n",
    "import pandas as pd\n",
    "import matplotlib.pyplot as plt\n",
    "import plotly.express as px\n",
    "\n",
    "import matplotlib\n",
    "from matplotlib.colors import ListedColormap\n",
    "\n",
    "import os\n",
    "import gc\n",
    "import argparse\n",
    "import torch\n",
    "import optuna\n",
    "import joblib\n",
    "import pickle\n",
    "\n",
    "from torch_geometric.utils import dense_to_sparse\n",
    "from sklearn.cluster import KMeans, BisectingKMeans, SpectralClustering\n",
    "\n",
    "import geoad.nn.models as models\n",
    "import geoad.utils.utils as utils\n",
    "import geoad.utils.fault_detection as fd\n",
    "\n",
    "from geoad.utils.utils import roc_params, compute_auc\n",
    "\n",
    "from importlib import reload\n",
    "models = reload(models)\n",
    "utils = reload(utils)\n",
    "\n",
    "from pyprojroot import here\n",
    "root_dir = str(here())\n",
    "\n",
    "data_dir = '~/data/interim/'\n",
    "\n",
    "matplotlib.rcParams.update({'font.size': 20})\n",
    "matplotlib.rcParams.update({'font.family': 'DejaVu Serif'})"
   ]
  },
  {
   "cell_type": "markdown",
   "metadata": {},
   "source": [
    "----------"
   ]
  },
  {
   "cell_type": "markdown",
   "metadata": {},
   "source": [
    "#### Showcasing data"
   ]
  },
  {
   "cell_type": "code",
   "execution_count": null,
   "metadata": {},
   "outputs": [],
   "source": [
    "rng_seed = 0\n",
    "torch.manual_seed(rng_seed)\n",
    "torch.cuda.manual_seed(rng_seed)\n",
    "np.random.seed(rng_seed)\n",
    "\n",
    "use_weight = False\n",
    "device = 'cpu'\n",
    "\n",
    "np.random.seed(0)\n",
    "torch.manual_seed(0)\n",
    "torch.cuda.manual_seed(0)\n",
    "\n",
    "dataset = 'output_name'\n",
    "df_orig = pd.read_parquet(data_dir + f'{dataset}.parq')\n",
    "\n",
    "df_ds = df_orig[df_orig.timestamp<'2022-06'].copy()\n",
    "df_ds = df_ds.groupby('pid').resample('30d', on='timestamp').mean().reset_index()\n",
    "\n",
    "data, labels, data_dfs, G, nodes=utils.generate_data(df_ds, 10, 0, 10, anomalous_nodes=20, noise=0.1, label_noise=True)\n",
    "\n",
    "A = torch.tensor(G.W.toarray()).float() #Using W as a float() tensor\n",
    "edge_index, edge_weight = dense_to_sparse(A)\n",
    "edge_index = edge_index.to(device)\n",
    "edge_weight = edge_weight.to(device) if use_weight else None\n",
    "\n",
    "\n",
    "n_timestamps = data.shape[2]\n",
    "\n",
    "label_cmap = ListedColormap(plt.cm.viridis(np.linspace(0,1,3)))\n",
    "label = labels[3,:]\n",
    "fig, ax = plt.subplots(figsize=(10,5))\n",
    "plotting_params = {'edge_color':'darkgray', 'edge_width':1.5,'vertex_color':'black', 'vertex_size':50}\n",
    "G.plotting.update(plotting_params)\n",
    "G.plot_signal(label, ax=ax, plot_name='Label')\n",
    "\n",
    "ax.collections[0].set_cmap(label_cmap)  # Modify the colormap of the plotted data\n",
    "ax.axis('off')\n",
    "plt.show()\n"
   ]
  },
  {
   "cell_type": "code",
   "execution_count": null,
   "metadata": {},
   "outputs": [],
   "source": [
    "df_plot = data_dfs[1]\n",
    "df_plot = df_plot.merge(df_ds[['pid','latitude','longitude', 'easting', 'northing']].drop_duplicates('pid'), how='left', on='pid')\n",
    "fd.plot_selected_pixels(df_plot, id_list=df_plot[df_plot.anomaly==2].pid.unique())"
   ]
  },
  {
   "cell_type": "code",
   "execution_count": null,
   "metadata": {},
   "outputs": [],
   "source": [
    "df_visualize = data_dfs[5].groupby('pid', as_index=False).max().merge(df_orig[['easting','northing','pid']].drop_duplicates(), how='left', on='pid')\n",
    "df_visualize['label'] = df_visualize['anomaly'].apply(lambda x: 'anomaly' if x == 1 else 'normal')\n",
    "df_visualize"
   ]
  },
  {
   "cell_type": "code",
   "execution_count": null,
   "metadata": {},
   "outputs": [],
   "source": [
    "utils.visualize_map(df_visualize, color='label', zoom=15.5, size=np.ones(df_visualize.shape[0]), size_max=5,\n",
    "                    discrete_colormap=px.colors.qualitative.Plotly, transparent=True)"
   ]
  }
 ],
 "metadata": {
  "kernelspec": {
   "display_name": "sensors-BoU2skHt-py3.10",
   "language": "python",
   "name": "python3"
  },
  "language_info": {
   "codemirror_mode": {
    "name": "ipython",
    "version": 3
   },
   "file_extension": ".py",
   "mimetype": "text/x-python",
   "name": "python",
   "nbconvert_exporter": "python",
   "pygments_lexer": "ipython3",
   "version": "3.10.13"
  }
 },
 "nbformat": 4,
 "nbformat_minor": 2
}
